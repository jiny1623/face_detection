{
  "cells": [
    {
      "cell_type": "markdown",
      "metadata": {},
      "source": [
        "# RetinaFace"
      ]
    },
    {
      "cell_type": "code",
      "execution_count": null,
      "metadata": {
        "colab": {
          "base_uri": "https://localhost:8080/"
        },
        "id": "LlP5yIZ6L-Nq",
        "outputId": "b580b88c-0139-4185-ff5e-9ecf4be98227"
      },
      "outputs": [],
      "source": [
        "from google.colab import drive\n",
        "drive.mount('/content/drive')"
      ]
    },
    {
      "cell_type": "markdown",
      "metadata": {},
      "source": [
        "* https://github.com/deepinsight/insightface/tree/master/detection/retinaface 에서 `RetinaFace-R50` 모델을 받고 `./retinaface/model` 폴더에 넣어줍니다.\n",
        "\n",
        "* 아래의 requirements를 설치해줍니다.\n",
        "\n",
        "* Google Colab의 Python 3.10 환경에서 테스트 되었습니다."
      ]
    },
    {
      "cell_type": "code",
      "execution_count": null,
      "metadata": {
        "colab": {
          "base_uri": "https://localhost:8080/",
          "height": 1000
        },
        "id": "BsPGPvqbKEcE",
        "outputId": "a83538c4-0805-4aa4-9fa0-0cf215ee8792"
      },
      "outputs": [],
      "source": [
        "!pip install -q condacolab\n",
        "import condacolab\n",
        "condacolab.install()\n",
        "!conda uninstall cudatoolkit\n",
        "!conda install cudnn\n",
        "\n",
        "!pip3 install tqdm\n",
        "!pip3 install mxnet-cu112\n",
        "!pip3 install onnx\n",
        "!pip3 install onnxruntime\n",
        "!pip3 install opencv-python\n",
        "!pip3 install Cython\n",
        "!pip3 install numpy==1.23.1 # float is deprecated\n",
        "%cd /content/drive/MyDrive/rippleai/insightface-master/detection/retinaface/\n",
        "!make"
      ]
    },
    {
      "cell_type": "markdown",
      "metadata": {},
      "source": [
        "* `./retinaface` 폴더로 진입합니다.\n",
        "* 아래의 명령어를 통하여 `inference.py` 를 실행합니다.\n",
        "    * command arguments는 input 파일 (경로), output 파일 (경로), model checkpoint path, threshold 입니다.\n",
        "    * threshold 의 기본값은 0.8 입니다."
      ]
    },
    {
      "cell_type": "code",
      "execution_count": null,
      "metadata": {
        "colab": {
          "base_uri": "https://localhost:8080/"
        },
        "id": "2Cr-9lYloRjQ",
        "outputId": "d95b1bfa-7300-474e-c41d-5a306887c8d3"
      },
      "outputs": [],
      "source": [
        "%cd ./retinaface/\n",
        "!python3 ./inference.py '/content/drive/MyDrive/rippleai/input.json' '/content/drive/MyDrive/rippleai/retina_output.json' --thr 0.8"
      ]
    }
  ],
  "metadata": {
    "accelerator": "GPU",
    "colab": {
      "gpuType": "T4",
      "provenance": []
    },
    "kernelspec": {
      "display_name": "Python 3",
      "name": "python3"
    },
    "language_info": {
      "name": "python"
    }
  },
  "nbformat": 4,
  "nbformat_minor": 0
}
