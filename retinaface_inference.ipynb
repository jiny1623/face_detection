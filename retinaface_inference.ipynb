{
  "cells": [
    {
      "cell_type": "code",
      "execution_count": null,
      "metadata": {
        "colab": {
          "base_uri": "https://localhost:8080/"
        },
        "id": "LlP5yIZ6L-Nq",
        "outputId": "b580b88c-0139-4185-ff5e-9ecf4be98227"
      },
      "outputs": [],
      "source": [
        "from google.colab import drive\n",
        "drive.mount('/content/drive')"
      ]
    },
    {
      "cell_type": "markdown",
      "metadata": {},
      "source": [
        "* https://github.com/deepinsight/insightface/tree/master/detection/retinaface 에서 `RetinaFace-R50` 모델을 받고 `./retinaface/model` 폴더에 넣어줍니다.\n",
        "\n",
        "* 아래의 requirements를 설치해줍니다.\n",
        "\n",
        "* Google Colab의 Python 3.10 환경에서 테스트 되었습니다."
      ]
    },
    {
      "cell_type": "code",
      "execution_count": null,
      "metadata": {
        "colab": {
          "base_uri": "https://localhost:8080/",
          "height": 1000
        },
        "id": "BsPGPvqbKEcE",
        "outputId": "a83538c4-0805-4aa4-9fa0-0cf215ee8792"
      },
      "outputs": [],
      "source": [
        "!pip install -q condacolab\n",
        "import condacolab\n",
        "condacolab.install()\n",
        "!conda uninstall cudatoolkit\n",
        "!conda install cudnn\n",
        "\n",
        "!pip3 install tqdm\n",
        "!pip3 install mxnet-cu112\n",
        "!pip3 install onnx\n",
        "!pip3 install onnxruntime\n",
        "!pip3 install opencv-python\n",
        "!pip3 install Cython\n",
        "!pip3 install numpy==1.23.1 # float is deprecated\n",
        "%cd /content/drive/MyDrive/rippleai/insightface-master/detection/retinaface/\n",
        "!make"
      ]
    },
    {
      "cell_type": "markdown",
      "metadata": {},
      "source": [
        "* `./retinaface` 폴더로 진입합니다.\n",
        "* 아래의 명령어를 통하여 `inference.py` 를 실행합니다.\n",
        "    * command arguments는 input 파일 (경로), output 파일 (경로), model checkpoint path, threshold 입니다.\n",
        "    * threshold 의 기본값은 0.8 입니다."
      ]
    },
    {
      "cell_type": "code",
      "execution_count": null,
      "metadata": {
        "colab": {
          "base_uri": "https://localhost:8080/"
        },
        "id": "2Cr-9lYloRjQ",
        "outputId": "d95b1bfa-7300-474e-c41d-5a306887c8d3"
      },
      "outputs": [
        {
          "name": "stdout",
          "output_type": "stream",
          "text": [
            "/content/drive/MyDrive/rippleai/insightface-master/detection/retinaface\n",
            "[32, 16, 8] {'32': {'SCALES': (32, 16), 'BASE_SIZE': 16, 'RATIOS': (1.0,), 'ALLOWED_BORDER': 9999}, '16': {'SCALES': (8, 4), 'BASE_SIZE': 16, 'RATIOS': (1.0,), 'ALLOWED_BORDER': 9999}, '8': {'SCALES': (2, 1), 'BASE_SIZE': 16, 'RATIOS': (1.0,), 'ALLOWED_BORDER': 9999}}\n",
            "[20:25:29] ../src/nnvm/legacy_json_util.cc:208: Loading symbol saved by previous version v1.3.0. Attempting to upgrade...\n",
            "[20:25:29] ../src/nnvm/legacy_json_util.cc:216: Symbol successfully upgraded!\n",
            "means [0. 0. 0.]\n",
            "use_landmarks True\n",
            "cascade 0\n",
            "sym size: 9\n",
            "[20:25:29] ../src/base.cc:79: cuDNN lib mismatch: linked-against version 8800 != compiled-against version 8101.  Set MXNET_CUDNN_LIB_CHECKING=0 to quiet this warning.\n",
            "  0% 0/32 [00:00<?, ?it/s][20:25:33] ../src/operator/nn/./cudnn/./cudnn_algoreg-inl.h:96: Running performance tests to find the best convolution algorithm, this can take a while... (set the environment variable MXNET_CUDNN_AUTOTUNE_DEFAULT to 0 to disable)\n",
            "  3% 1/32 [00:09<04:52,  9.42s/it][20:25:43] ../src/operator/nn/./cudnn/./cudnn_algoreg-inl.h:96: Running performance tests to find the best convolution algorithm, this can take a while... (set the environment variable MXNET_CUDNN_AUTOTUNE_DEFAULT to 0 to disable)\n",
            "  6% 2/32 [00:17<04:21,  8.70s/it][20:25:53] ../src/operator/nn/./cudnn/./cudnn_algoreg-inl.h:96: Running performance tests to find the best convolution algorithm, this can take a while... (set the environment variable MXNET_CUDNN_AUTOTUNE_DEFAULT to 0 to disable)\n",
            "  9% 3/32 [00:27<04:28,  9.24s/it][20:26:03] ../src/operator/nn/./cudnn/./cudnn_algoreg-inl.h:96: Running performance tests to find the best convolution algorithm, this can take a while... (set the environment variable MXNET_CUDNN_AUTOTUNE_DEFAULT to 0 to disable)\n",
            " 12% 4/32 [00:35<04:09,  8.92s/it][20:26:13] ../src/operator/nn/./cudnn/./cudnn_algoreg-inl.h:96: Running performance tests to find the best convolution algorithm, this can take a while... (set the environment variable MXNET_CUDNN_AUTOTUNE_DEFAULT to 0 to disable)\n",
            " 16% 5/32 [00:44<03:57,  8.80s/it][20:26:22] ../src/operator/nn/./cudnn/./cudnn_algoreg-inl.h:96: Running performance tests to find the best convolution algorithm, this can take a while... (set the environment variable MXNET_CUDNN_AUTOTUNE_DEFAULT to 0 to disable)\n",
            " 19% 6/32 [00:52<03:45,  8.68s/it][20:26:34] ../src/operator/nn/./cudnn/./cudnn_algoreg-inl.h:96: Running performance tests to find the best convolution algorithm, this can take a while... (set the environment variable MXNET_CUDNN_AUTOTUNE_DEFAULT to 0 to disable)\n",
            " 22% 7/32 [01:03<03:49,  9.17s/it][20:26:43] ../src/operator/nn/./cudnn/./cudnn_algoreg-inl.h:96: Running performance tests to find the best convolution algorithm, this can take a while... (set the environment variable MXNET_CUDNN_AUTOTUNE_DEFAULT to 0 to disable)\n",
            " 28% 9/32 [01:20<03:24,  8.88s/it][20:26:54] ../src/operator/nn/./cudnn/./cudnn_algoreg-inl.h:96: Running performance tests to find the best convolution algorithm, this can take a while... (set the environment variable MXNET_CUDNN_AUTOTUNE_DEFAULT to 0 to disable)\n",
            " 31% 10/32 [01:30<03:21,  9.14s/it][20:27:04] ../src/operator/nn/./cudnn/./cudnn_algoreg-inl.h:96: Running performance tests to find the best convolution algorithm, this can take a while... (set the environment variable MXNET_CUDNN_AUTOTUNE_DEFAULT to 0 to disable)\n",
            " 47% 15/32 [01:39<00:39,  2.31s/it][20:27:15] ../src/operator/nn/./cudnn/./cudnn_algoreg-inl.h:96: Running performance tests to find the best convolution algorithm, this can take a while... (set the environment variable MXNET_CUDNN_AUTOTUNE_DEFAULT to 0 to disable)\n",
            " 50% 16/32 [01:48<01:05,  4.10s/it][20:27:24] ../src/operator/nn/./cudnn/./cudnn_algoreg-inl.h:96: Running performance tests to find the best convolution algorithm, this can take a while... (set the environment variable MXNET_CUDNN_AUTOTUNE_DEFAULT to 0 to disable)\n",
            " 53% 17/32 [01:56<01:23,  5.54s/it][20:27:35] ../src/operator/nn/./cudnn/./cudnn_algoreg-inl.h:96: Running performance tests to find the best convolution algorithm, this can take a while... (set the environment variable MXNET_CUDNN_AUTOTUNE_DEFAULT to 0 to disable)\n",
            " 59% 19/32 [02:04<00:57,  4.44s/it][20:27:52] ../src/operator/nn/./cudnn/./cudnn_algoreg-inl.h:96: Running performance tests to find the best convolution algorithm, this can take a while... (set the environment variable MXNET_CUDNN_AUTOTUNE_DEFAULT to 0 to disable)\n",
            " 66% 21/32 [02:22<01:04,  5.88s/it][20:28:02] ../src/operator/nn/./cudnn/./cudnn_algoreg-inl.h:96: Running performance tests to find the best convolution algorithm, this can take a while... (set the environment variable MXNET_CUDNN_AUTOTUNE_DEFAULT to 0 to disable)\n",
            " 69% 22/32 [02:32<01:11,  7.16s/it][20:28:12] ../src/operator/nn/./cudnn/./cudnn_algoreg-inl.h:96: Running performance tests to find the best convolution algorithm, this can take a while... (set the environment variable MXNET_CUDNN_AUTOTUNE_DEFAULT to 0 to disable)\n",
            " 75% 24/32 [02:49<01:02,  7.80s/it][20:28:22] ../src/operator/nn/./cudnn/./cudnn_algoreg-inl.h:96: Running performance tests to find the best convolution algorithm, this can take a while... (set the environment variable MXNET_CUDNN_AUTOTUNE_DEFAULT to 0 to disable)\n",
            " 78% 25/32 [02:57<00:55,  7.95s/it][20:28:31] ../src/operator/nn/./cudnn/./cudnn_algoreg-inl.h:96: Running performance tests to find the best convolution algorithm, this can take a while... (set the environment variable MXNET_CUDNN_AUTOTUNE_DEFAULT to 0 to disable)\n",
            " 84% 27/32 [03:06<00:28,  5.73s/it][20:28:41] ../src/operator/nn/./cudnn/./cudnn_algoreg-inl.h:96: Running performance tests to find the best convolution algorithm, this can take a while... (set the environment variable MXNET_CUDNN_AUTOTUNE_DEFAULT to 0 to disable)\n",
            " 88% 28/32 [03:14<00:26,  6.65s/it][20:28:51] ../src/operator/nn/./cudnn/./cudnn_algoreg-inl.h:96: Running performance tests to find the best convolution algorithm, this can take a while... (set the environment variable MXNET_CUDNN_AUTOTUNE_DEFAULT to 0 to disable)\n",
            "100% 32/32 [03:24<00:00,  6.39s/it]\n"
          ]
        }
      ],
      "source": [
        "%cd ./retinaface/\n",
        "!python3 ./inference.py '/content/drive/MyDrive/rippleai/input.json' '/content/drive/MyDrive/rippleai/retina_output.json' --thr 0.8"
      ]
    }
  ],
  "metadata": {
    "accelerator": "GPU",
    "colab": {
      "gpuType": "T4",
      "provenance": []
    },
    "kernelspec": {
      "display_name": "Python 3",
      "name": "python3"
    },
    "language_info": {
      "name": "python"
    }
  },
  "nbformat": 4,
  "nbformat_minor": 0
}
