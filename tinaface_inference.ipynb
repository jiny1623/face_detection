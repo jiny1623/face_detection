{
  "cells": [
    {
      "cell_type": "markdown",
      "metadata": {},
      "source": [
        "# TinaFace"
      ]
    },
    {
      "cell_type": "code",
      "execution_count": null,
      "metadata": {
        "colab": {
          "base_uri": "https://localhost:8080/"
        },
        "id": "gYDi17jHAbZt",
        "outputId": "f96071e8-7f85-4c13-8f45-5e198092c476"
      },
      "outputs": [],
      "source": [
        "from google.colab import drive\n",
        "drive.mount('/content/drive')"
      ]
    },
    {
      "cell_type": "markdown",
      "metadata": {},
      "source": [
        "* https://github.com/Media-Smart/vedadet/tree/main/configs/trainval/tinaface 에서 모델을 받아 저장해 줍니다.\n",
        "    * ex. `./vedadet/weights/`에 `tinaface_r50_fpn_gn_dcn.pth`를 저장\n",
        "* config py file에서 `score_thr` 와 `weights`를 알맞게 바꿔줍니다.\n",
        "    * ex. `.vedadet/configs/infer/tinaface/tinaface_r50_fpn_gn_dcn.py`에서 수정\n",
        "    * threshold의 기본값은 0.4 입니다.\n",
        "\n",
        "* 아래의 requirements를 설치해줍니다.\n",
        "* Google Colab의 Python 3.8 환경에서 테스트 되었습니다.\n",
        "* `torch==1.7.0+cu102`"
      ]
    },
    {
      "cell_type": "code",
      "execution_count": null,
      "metadata": {
        "colab": {
          "base_uri": "https://localhost:8080/"
        },
        "id": "BjTEuGE_ASmc",
        "outputId": "92060c02-6912-4a55-a85b-14f9ef222822"
      },
      "outputs": [],
      "source": [
        "!sudo apt-get update -y\n",
        "!sudo apt-get install python3.8 python3.8-dev python3.8-distutils libpython3.8-dev\n",
        "!sudo update-alternatives --install /usr/bin/python3 python3 /usr/bin/python3.8 1\n",
        "!sudo update-alternatives --config python3\n",
        "!sudo apt install python3-pip\n",
        "# CUDA 10.2\n",
        "!pip install torch==1.7.0 torchvision==0.8.0 torchaudio==0.7.0"
      ]
    },
    {
      "cell_type": "code",
      "execution_count": null,
      "metadata": {
        "colab": {
          "base_uri": "https://localhost:8080/"
        },
        "id": "3IyEqFJAPZJ6",
        "outputId": "ec43b0a8-50c4-4946-f650-585fab9edb5d"
      },
      "outputs": [],
      "source": [
        "%cd /content/drive/MyDrive/rippleai/vedadet\n",
        "!pip install cmake\n",
        "!pip install -r requirements/build.txt\n",
        "!pip install -v -e .\n",
        "!pip install pycocotools\n",
        "!pip install tqdm\n",
        "!pip install Cython\n",
        "!pip install bbox\n",
        "!pip install numpy==1.23.1"
      ]
    },
    {
      "cell_type": "markdown",
      "metadata": {},
      "source": [
        "* 아래의 명령어를 통하여 `inference.py` 를 실행합니다.\n",
        "    * command arguments는 input 파일 (경로), output 파일 (경로), config path 입니다."
      ]
    },
    {
      "cell_type": "code",
      "execution_count": 9,
      "metadata": {
        "colab": {
          "base_uri": "https://localhost:8080/"
        },
        "id": "0Q2RYgddMqYm",
        "outputId": "b1b40735-a0b4-44e7-ab26-ffe80b1c776d"
      },
      "outputs": [
        {
          "name": "stdout",
          "output_type": "stream",
          "text": [
            "/content/drive/MyDrive/rippleai/vedadet\n",
            "  0% 0/32 [00:00<?, ?it/s]/usr/local/lib/python3.8/dist-packages/torch/nn/functional.py:3060: UserWarning: Default upsampling behavior when mode=bilinear is changed to align_corners=False since 0.4.0. Please specify align_corners=True if the old behavior is desired. See the documentation of nn.Upsample for details.\n",
            "  warnings.warn(\"Default upsampling behavior when mode={} is changed \"\n",
            "100% 32/32 [00:32<00:00,  1.01s/it]\n"
          ]
        }
      ],
      "source": [
        "%cd /content/drive/MyDrive/rippleai/vedadet\n",
        "!CUDA_VISIBLE_DEVICES=\"0\" python tools/inference.py /content/drive/MyDrive/rippleai/input.json /content/drive/MyDrive/rippleai/tina_output.json configs/infer/tinaface/tinaface_r50_fpn_gn_dcn.py"
      ]
    }
  ],
  "metadata": {
    "accelerator": "GPU",
    "colab": {
      "gpuType": "T4",
      "provenance": []
    },
    "kernelspec": {
      "display_name": "Python 3",
      "name": "python3"
    },
    "language_info": {
      "name": "python"
    }
  },
  "nbformat": 4,
  "nbformat_minor": 0
}
