{
  "cells": [
    {
      "cell_type": "markdown",
      "metadata": {},
      "source": [
        "# SCRFD"
      ]
    },
    {
      "cell_type": "code",
      "execution_count": 1,
      "metadata": {
        "colab": {
          "base_uri": "https://localhost:8080/"
        },
        "id": "caCFpI8nzc9_",
        "outputId": "988b9b52-b7dd-4445-c27c-2fb557417fae"
      },
      "outputs": [
        {
          "name": "stdout",
          "output_type": "stream",
          "text": [
            "Mounted at /content/drive\n"
          ]
        }
      ],
      "source": [
        "from google.colab import drive\n",
        "drive.mount('/content/drive')"
      ]
    },
    {
      "cell_type": "markdown",
      "metadata": {},
      "source": [
        "* https://github.com/deepinsight/insightface/tree/master/detection/scrfd 에서 Pre-trained Model을 받아 저장해줍니다.\n",
        "    * ex. `./scrfd/model/scrfd_34g/`에 scrfd_34g의 `model.pth`를 저장\n",
        "\n",
        "* 아래의 requirements를 설치해줍니다.\n",
        "* Google Colab의 Python 3.7 환경에서 테스트 되었습니다.\n",
        "* `torch==1.7.0+cu92` / `mmcv-full==1.3.3`\n",
        "* `mmdet==2.7.0` 을 설치해야 하는데 `mmpycocotools`의 오류로 설치가 되지 않습니다. 따라서 workaround로 mmdet==2.12.0을 설치하고, `./scrfd/mmdet` 폴더를 `/usr/local/lib/python3.7/dist-packages/` 에 붙여넣는 방식으로 `pip install -v -e .`를 대체했습니다."
      ]
    },
    {
      "cell_type": "code",
      "execution_count": null,
      "metadata": {
        "colab": {
          "base_uri": "https://localhost:8080/",
          "height": 1000
        },
        "id": "f0UiI759kOK7",
        "outputId": "124c174c-9af3-4604-ea4e-9658655d68e9"
      },
      "outputs": [],
      "source": [
        "%cd /content/drive/MyDrive/\n",
        "!sudo apt-get update -y\n",
        "!sudo apt-get install python3.7 python3.7-dev python3.7-distutils libpython3.7-dev\n",
        "!sudo update-alternatives --install /usr/bin/python3 python3 /usr/bin/python3.7 1\n",
        "!sudo update-alternatives --config python3\n",
        "!sudo apt install python3-pip\n",
        "!pip install torch==1.7.0+cu92 torchvision==0.8.1+cu92 torchaudio==0.7.0 -f https://download.pytorch.org/whl/torch_stable.html\n",
        "\n",
        "!pip install onnx\n",
        "!pip install onnxruntime\n",
        "!pip3 install -U openmim\n",
        "!mim install mmcv-full==1.3.3\n",
        "%cd /content/drive/MyDrive/rippleai/insightface-master/detection/scrfd/\n",
        "!pip install -r requirements/build.tx\n",
        "\n",
        "!pip install mmdet==2.12.0\n",
        "%cd /content/drive/MyDrive/rippleai/insightface-master/detection/scrfd/\n",
        "!zip -r mmdet.zip ./mmdet/\n",
        "!unzip ./mmdet.zip  -d /usr/local/lib/python3.7/dist-packages/\n",
        "\n",
        "!pip install scipy\n",
        "!pip install onnxsim"
      ]
    },
    {
      "cell_type": "markdown",
      "metadata": {},
      "source": [
        "* 아래의 명령어로 해당 pth 파일을 ONNX로 변환시킵니다.\n",
        "* --input-img에는 jpg 파일을 아무거나 넣어줍니다."
      ]
    },
    {
      "cell_type": "code",
      "execution_count": null,
      "metadata": {
        "colab": {
          "base_uri": "https://localhost:8080/"
        },
        "id": "U64kWDVh3H10",
        "outputId": "b01c9cf5-b226-4456-8e99-3c64ce930fea"
      },
      "outputs": [],
      "source": [
        "%cd /content/drive/MyDrive/rippleai/insightface-master/detection/scrfd/\n",
        "!CUDA_VISIBLE_DEVICES=0  python -u ./tools/scrfd2onnx.py ./configs/scrfd/scrfd_34g.py ./model/scrfd_34g/model.pth --input-img '/content/drive/MyDrive/rippleai/sample.jpg'"
      ]
    },
    {
      "cell_type": "markdown",
      "metadata": {},
      "source": [
        "* 위에서 얻어진 ONNX 파일을 `./onnx/scrfd_34g.onnx` 와 같은 형태로 넣어줍니다.\n",
        "* `./scrfd` 폴더로 진입합니다.\n",
        "* 아래의 명령어를 통하여 `inference.py` 를 실행합니다.\n",
        "    * command arguments는 input 파일 (경로), output 파일 (경로), onnx path, threshold 입니다.\n",
        "    * threshold 의 기본값은 0.5 입니다."
      ]
    },
    {
      "cell_type": "code",
      "execution_count": 10,
      "metadata": {
        "colab": {
          "base_uri": "https://localhost:8080/"
        },
        "id": "gdvVLATBWYEy",
        "outputId": "42cba4d3-3b5c-4f87-eea6-e9f03160f66a"
      },
      "outputs": [
        {
          "name": "stdout",
          "output_type": "stream",
          "text": [
            "/content/drive/MyDrive/rippleai/insightface-master/detection/scrfd\n",
            "100% 32/32 [00:37<00:00,  1.19s/it]\n"
          ]
        }
      ],
      "source": [
        "%cd /content/drive/MyDrive/rippleai/insightface-master/detection/scrfd/\n",
        "!CUDA_VISIBLE_DEVICES=0 python tools/inference.py '/content/drive/MyDrive/rippleai/input.json' '/content/drive/MyDrive/rippleai/scrfd_output.json'"
      ]
    }
  ],
  "metadata": {
    "accelerator": "GPU",
    "colab": {
      "gpuType": "T4",
      "provenance": []
    },
    "kernelspec": {
      "display_name": "Python 3",
      "name": "python3"
    },
    "language_info": {
      "name": "python"
    }
  },
  "nbformat": 4,
  "nbformat_minor": 0
}
